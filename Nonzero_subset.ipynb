{
 "cells": [
  {
   "cell_type": "code",
   "execution_count": 27,
   "id": "08ac149c-39de-4eec-9390-1d8ff924d741",
   "metadata": {},
   "outputs": [],
   "source": [
    "import pandas as pd"
   ]
  },
  {
   "cell_type": "code",
   "execution_count": 28,
   "id": "5926b27d-300e-4261-90b1-c1988923c9ef",
   "metadata": {},
   "outputs": [],
   "source": [
    "# Read the Excel file\n",
    "file_path = \"rawMeterData-123W93Street.xlsx\"  # Ensure the file path is correct\n",
    "xls = pd.ExcelFile(file_path)\n",
    "\n",
    "# Read all sheets (2021-2024)\n",
    "data_frames = []\n",
    "for sheet_name in xls.sheet_names:\n",
    "    df = xls.parse(sheet_name)  # Parse each sheet\n",
    "    df['Year'] = sheet_name  # Add a Year column to indicate the sheet's year\n",
    "    data_frames.append(df)\n",
    "\n",
    "# Merge data from all years into a single DataFrame\n",
    "df_all = pd.concat(data_frames, ignore_index=True)\n",
    "\n",
    "# Check the data format\n",
    "df_all.head()  # Display the first few rows of the dataset\n",
    "\n",
    "# Export to Excel file\n",
    "df_all.to_excel(\"combined_data.xlsx\", index=False)"
   ]
  },
  {
   "cell_type": "code",
   "execution_count": 31,
   "id": "6434ee84-31e0-46d1-92d6-5eb0111a2e8c",
   "metadata": {},
   "outputs": [
    {
     "name": "stdout",
     "output_type": "stream",
     "text": [
      "The number of zeros in each column：\n",
      "raw_MM_Wh        0\n",
      "raw_Tenant_Wh    0\n",
      "dtype: int64\n",
      "Export successful, total number of records： 117604\n"
     ]
    }
   ],
   "source": [
    "# Read Excel file\n",
    "df = pd.read_excel(\"combined_data.xlsx\")\n",
    "\n",
    "# Convert the 'dateTimeStmp' column to datetime format\n",
    "df['dateTimeStmp'] = pd.to_datetime(df['dateTimeStmp'])\n",
    "\n",
    "# Extract the date portion (excluding the specific time).\n",
    "df['date'] = df['dateTimeStmp'].dt.date\n",
    "\n",
    "# Group by date to filter out data where all records in a day are not 0\n",
    "NONZERO_SUBSET = df.groupby('date').filter(\n",
    "    lambda x: (x['raw_MM_Wh'] != 0).all() and (x['raw_Tenant_Wh'] != 0).all()\n",
    ")\n",
    "\n",
    "# 5. Keep the required columns\n",
    "NONZERO_SUBSET = NONZERO_SUBSET[['dateTimeStmp', 'raw_MM_Wh', 'raw_Tenant_Wh']]\n",
    "\n",
    "# Define a function to convert a date to a string with ordinal suffix\n",
    "def ordinal(n):\n",
    "    if 11 <= n % 100 <= 13:\n",
    "        suffix = 'th'\n",
    "    else:\n",
    "        suffix = {1: 'st', 2: 'nd', 3: 'rd'}.get(n % 10, 'th')\n",
    "    return str(n) + suffix\n",
    "\n",
    "# Define the function to format the date\n",
    "def format_date(dt):\n",
    "    return dt.strftime('%b ') + ordinal(dt.day) + dt.strftime(' %Y')\n",
    "\n",
    "# Add new column 'Exact_Date' to display the formatted date\n",
    "NONZERO_SUBSET['Exact_Date'] = NONZERO_SUBSET['dateTimeStmp'].apply(format_date)\n",
    "\n",
    "# Count the number of 0s in each column\n",
    "zero_counts = (NONZERO_SUBSET[['raw_MM_Wh', 'raw_Tenant_Wh']] == 0).sum()\n",
    "print(\"The number of zeros in each column：\")\n",
    "print(zero_counts)\n",
    "\n",
    "# Export to Excel file\n",
    "NONZERO_SUBSET.to_excel(\"NONZERO_SUBSET.xlsx\", index=False)\n",
    "\n",
    "# Confirm the output result.\n",
    "print(\"Export successful, total number of records：\", NONZERO_SUBSET.shape[0])\n"
   ]
  },
  {
   "cell_type": "code",
   "execution_count": null,
   "id": "0d07722b-3234-45e0-a375-f370127951e3",
   "metadata": {},
   "outputs": [],
   "source": []
  }
 ],
 "metadata": {
  "kernelspec": {
   "display_name": "Python 3 (ipykernel)",
   "language": "python",
   "name": "python3"
  },
  "language_info": {
   "codemirror_mode": {
    "name": "ipython",
    "version": 3
   },
   "file_extension": ".py",
   "mimetype": "text/x-python",
   "name": "python",
   "nbconvert_exporter": "python",
   "pygments_lexer": "ipython3",
   "version": "3.12.4"
  }
 },
 "nbformat": 4,
 "nbformat_minor": 5
}
