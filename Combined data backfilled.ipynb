{
 "cells": [
  {
   "cell_type": "code",
   "execution_count": 21,
   "id": "6013a603-f5e9-4e2c-9da6-b3cf67c5ebd0",
   "metadata": {},
   "outputs": [
    {
     "name": "stdout",
     "output_type": "stream",
     "text": [
      "Saved results to results.pkl\n"
     ]
    }
   ],
   "source": [
    "# Combine the previous regression results in a single variable “results”\n",
    "import joblib\n",
    "\n",
    "joblib.dump(results, 'results.pkl')\n",
    "\n",
    "print(\"Saved results to results.pkl\")"
   ]
  },
  {
   "cell_type": "code",
   "execution_count": 22,
   "id": "fc0ca3bd-9de0-4fde-9b01-421d927be129",
   "metadata": {},
   "outputs": [],
   "source": [
    "import pandas as pd\n",
    "import numpy as np\n",
    "import joblib\n",
    "\n",
    "# Loads the saved regression results\n",
    "results = joblib.load('results.pkl') "
   ]
  },
  {
   "cell_type": "code",
   "execution_count": 25,
   "id": "71c2fabb-4483-41c0-a9f8-69bfcb986c71",
   "metadata": {},
   "outputs": [
    {
     "name": "stdout",
     "output_type": "stream",
     "text": [
      "Backfill completed and saved to Combined_data_backfilled.csv\n"
     ]
    }
   ],
   "source": [
    "# Read the original dataset and add the same regressor features as before\n",
    "\n",
    "df = pd.read_excel('combined_data.xlsx', parse_dates=['dateTimeStmp'])\n",
    "df.sort_values('dateTimeStmp', inplace=True)\n",
    "for d in [-3, -2, -1, 1, 2, 3]:\n",
    "    shift_steps = d*96\n",
    "    df[f'D{d:+}'] = df['raw_MM_Wh'].shift(-shift_steps).fillna(0)\n",
    "df['backfilled_MM_Wh'] = np.nan\n",
    "\n",
    "def get_season_from_month(m):\n",
    "    # Define the season\n",
    "    \n",
    "    if m in [6,7,8]:\n",
    "        return 'Summer'\n",
    "    elif m in [11,12,1,2,3]:\n",
    "        return 'Winter'\n",
    "    else:\n",
    "        return 'Shoulder'\n",
    "\n",
    "def predict_with_stored_params(row, day, season, results):\n",
    "    # Manually calculate the predicted value.\n",
    "    \n",
    "    # 1) Retrieve the regression information for this (weekday, season)\n",
    "    if day not in results or season not in results[day]:\n",
    "        return None\n",
    "    param_info = results[day][season]\n",
    "    if 'params' not in param_info:\n",
    "        return None\n",
    "\n",
    "    params = param_info['params']  # Including 'const', 'D-3', 'D-2', ...\n",
    "    # 2) Add up manually\n",
    "    y_pred = params.get('const', 0)\n",
    "    for var in ['D-3','D-2','D-1','D+1','D+2','D+3']:\n",
    "        coef = params.get(var, 0)\n",
    "        xval = row.get(var, 0)\n",
    "        if xval ==0:\n",
    "            return 0\n",
    "        y_pred += coef * xval\n",
    "    \n",
    "    return y_pred\n",
    "\n",
    "# 3) Loop backfill\n",
    "for idx, row_data in df.iterrows():\n",
    "    raw_val = row_data['raw_MM_Wh']\n",
    "    if raw_val != 0:\n",
    "        df.at[idx, 'backfilled_MM_Wh'] = raw_val\n",
    "    else:\n",
    "        dt = row_data['dateTimeStmp']\n",
    "        day_name = dt.day_name()    # \"Monday\",\"Tuesday\",...\n",
    "        season = get_season_from_month(dt.month)\n",
    "        y_pred = predict_with_stored_params(row_data, day_name, season, results)\n",
    "        \n",
    "        df.at[idx, 'backfilled_MM_Wh'] = y_pred if y_pred is not None else 0\n",
    "\n",
    "# Save result\n",
    "df.to_csv('Combined_data_backfilled.csv', index=False)\n",
    "print(\"Backfill completed and saved to Combined_data_backfilled.csv\")"
   ]
  },
  {
   "cell_type": "code",
   "execution_count": null,
   "id": "723cc862-113d-41f7-b932-f93f9e008a9d",
   "metadata": {},
   "outputs": [],
   "source": []
  }
 ],
 "metadata": {
  "kernelspec": {
   "display_name": "Python 3 (ipykernel)",
   "language": "python",
   "name": "python3"
  },
  "language_info": {
   "codemirror_mode": {
    "name": "ipython",
    "version": 3
   },
   "file_extension": ".py",
   "mimetype": "text/x-python",
   "name": "python",
   "nbconvert_exporter": "python",
   "pygments_lexer": "ipython3",
   "version": "3.12.4"
  }
 },
 "nbformat": 4,
 "nbformat_minor": 5
}
