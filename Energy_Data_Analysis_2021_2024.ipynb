{
 "cells": [
  {
   "cell_type": "markdown",
   "id": "6ad58dd0",
   "metadata": {},
   "source": [
    "## Import libraries"
   ]
  },
  {
   "cell_type": "code",
   "execution_count": 1,
   "id": "1eb77bad",
   "metadata": {},
   "outputs": [],
   "source": [
    "import pandas as pd\n",
    "import numpy as np\n",
    "import matplotlib.pyplot as plt"
   ]
  },
  {
   "cell_type": "markdown",
   "id": "386fd005",
   "metadata": {},
   "source": [
    "## Step 1 "
   ]
  },
  {
   "cell_type": "code",
   "execution_count": 2,
   "id": "a069f41d",
   "metadata": {},
   "outputs": [
    {
     "data": {
      "text/html": [
       "<div>\n",
       "<style scoped>\n",
       "    .dataframe tbody tr th:only-of-type {\n",
       "        vertical-align: middle;\n",
       "    }\n",
       "\n",
       "    .dataframe tbody tr th {\n",
       "        vertical-align: top;\n",
       "    }\n",
       "\n",
       "    .dataframe thead th {\n",
       "        text-align: right;\n",
       "    }\n",
       "</style>\n",
       "<table border=\"1\" class=\"dataframe\">\n",
       "  <thead>\n",
       "    <tr style=\"text-align: right;\">\n",
       "      <th></th>\n",
       "      <th>dateTimeStmp</th>\n",
       "      <th>raw_MM_Wh</th>\n",
       "      <th>raw_Tenant_Wh</th>\n",
       "      <th>Year</th>\n",
       "    </tr>\n",
       "  </thead>\n",
       "  <tbody>\n",
       "    <tr>\n",
       "      <th>0</th>\n",
       "      <td>2021-01-01 00:00:00</td>\n",
       "      <td>9516.17</td>\n",
       "      <td>6829.72</td>\n",
       "      <td>2021</td>\n",
       "    </tr>\n",
       "    <tr>\n",
       "      <th>1</th>\n",
       "      <td>2021-01-01 00:15:00</td>\n",
       "      <td>8710.08</td>\n",
       "      <td>6124.53</td>\n",
       "      <td>2021</td>\n",
       "    </tr>\n",
       "    <tr>\n",
       "      <th>2</th>\n",
       "      <td>2021-01-01 00:30:00</td>\n",
       "      <td>8123.25</td>\n",
       "      <td>6243.97</td>\n",
       "      <td>2021</td>\n",
       "    </tr>\n",
       "    <tr>\n",
       "      <th>3</th>\n",
       "      <td>2021-01-01 00:45:00</td>\n",
       "      <td>8097.63</td>\n",
       "      <td>6234.43</td>\n",
       "      <td>2021</td>\n",
       "    </tr>\n",
       "    <tr>\n",
       "      <th>4</th>\n",
       "      <td>2021-01-01 01:00:00</td>\n",
       "      <td>9140.92</td>\n",
       "      <td>6313.70</td>\n",
       "      <td>2021</td>\n",
       "    </tr>\n",
       "  </tbody>\n",
       "</table>\n",
       "</div>"
      ],
      "text/plain": [
       "          dateTimeStmp  raw_MM_Wh  raw_Tenant_Wh  Year\n",
       "0  2021-01-01 00:00:00    9516.17        6829.72  2021\n",
       "1  2021-01-01 00:15:00    8710.08        6124.53  2021\n",
       "2  2021-01-01 00:30:00    8123.25        6243.97  2021\n",
       "3  2021-01-01 00:45:00    8097.63        6234.43  2021\n",
       "4  2021-01-01 01:00:00    9140.92        6313.70  2021"
      ]
     },
     "execution_count": 2,
     "metadata": {},
     "output_type": "execute_result"
    }
   ],
   "source": [
    "# Read the Excel file\n",
    "file_path = \"rawMeterData-123W93Street.xlsx\"  # Ensure the file path is correct\n",
    "xls = pd.ExcelFile(file_path)\n",
    "\n",
    "# Read all sheets (2021-2024)\n",
    "data_frames = []\n",
    "for sheet_name in xls.sheet_names:\n",
    "    df = xls.parse(sheet_name)  # Parse each sheet\n",
    "    df['Year'] = sheet_name  # Add a Year column to indicate the sheet's year\n",
    "    data_frames.append(df)\n",
    "\n",
    "# Merge data from all years into a single DataFrame\n",
    "df_all = pd.concat(data_frames, ignore_index=True)\n",
    "\n",
    "# Check the data format\n",
    "df_all.head()  # Display the first few rows of the dataset"
   ]
  },
  {
   "cell_type": "code",
   "execution_count": 3,
   "id": "00b3db45",
   "metadata": {},
   "outputs": [
    {
     "name": "stdout",
     "output_type": "stream",
     "text": [
      "<class 'pandas.core.frame.DataFrame'>\n",
      "RangeIndex: 131424 entries, 0 to 131423\n",
      "Data columns (total 4 columns):\n",
      " #   Column         Non-Null Count   Dtype  \n",
      "---  ------         --------------   -----  \n",
      " 0   dateTimeStmp   131424 non-null  object \n",
      " 1   raw_MM_Wh      131424 non-null  float64\n",
      " 2   raw_Tenant_Wh  131424 non-null  float64\n",
      " 3   Year           131424 non-null  object \n",
      "dtypes: float64(2), object(2)\n",
      "memory usage: 4.0+ MB\n",
      "None\n"
     ]
    }
   ],
   "source": [
    "print(df_all.info())  # Show dataset information"
   ]
  },
  {
   "cell_type": "markdown",
   "id": "da31ed1f",
   "metadata": {},
   "source": [
    "## Step2"
   ]
  },
  {
   "cell_type": "code",
   "execution_count": 4,
   "id": "e8f1e7fd",
   "metadata": {},
   "outputs": [
    {
     "name": "stdout",
     "output_type": "stream",
     "text": [
      "Total number of zero observations in raw_MM_Wh: 3615\n"
     ]
    }
   ],
   "source": [
    "# 2.1 Count the number of zero observations in raw_MM_Wh\n",
    "zero_count = (df_all['raw_MM_Wh'] == 0).sum()\n",
    "\n",
    "print(f\"Total number of zero observations in raw_MM_Wh: {zero_count}\")"
   ]
  },
  {
   "cell_type": "code",
   "execution_count": 5,
   "id": "8d9a03f4",
   "metadata": {},
   "outputs": [
    {
     "name": "stdout",
     "output_type": "stream",
     "text": [
      "       Consecutive_Zero_Count\n",
      "count              630.000000\n",
      "mean               165.730159\n",
      "std               1337.100433\n",
      "min                  2.000000\n",
      "25%                  3.000000\n",
      "50%                  6.000000\n",
      "75%                 16.000000\n",
      "max              20516.000000\n"
     ]
    }
   ],
   "source": [
    "# 2.2 Count the number of consecutive zero sequences\n",
    "# Identify where raw_MM_Wh is zero\n",
    "zero_mask = df_all['raw_MM_Wh'] == 0\n",
    "\n",
    "# Find consecutive sequences of zeros\n",
    "zero_sequences = np.diff(np.where(np.concatenate(([False], zero_mask, [False])))[0])\n",
    "\n",
    "# Count consecutive zero streaks\n",
    "zero_streaks = [length for length in zero_sequences if length > 1]\n",
    "\n",
    "# Create a DataFrame for better analysis\n",
    "df_zero_streaks = pd.DataFrame(zero_streaks, columns=['Consecutive_Zero_Count'])\n",
    "\n",
    "print(df_zero_streaks.describe())  # Summary statistics of consecutive zero streaks"
   ]
  },
  {
   "cell_type": "code",
   "execution_count": 6,
   "id": "51b4d46c",
   "metadata": {},
   "outputs": [
    {
     "data": {
      "text/html": [
       "<div>\n",
       "<style scoped>\n",
       "    .dataframe tbody tr th:only-of-type {\n",
       "        vertical-align: middle;\n",
       "    }\n",
       "\n",
       "    .dataframe tbody tr th {\n",
       "        vertical-align: top;\n",
       "    }\n",
       "\n",
       "    .dataframe thead th {\n",
       "        text-align: right;\n",
       "    }\n",
       "</style>\n",
       "<table border=\"1\" class=\"dataframe\">\n",
       "  <thead>\n",
       "    <tr style=\"text-align: right;\">\n",
       "      <th></th>\n",
       "      <th>Consecutive_Zero_Count</th>\n",
       "    </tr>\n",
       "  </thead>\n",
       "  <tbody>\n",
       "    <tr>\n",
       "      <th>0</th>\n",
       "      <td>4649</td>\n",
       "    </tr>\n",
       "    <tr>\n",
       "      <th>1</th>\n",
       "      <td>3458</td>\n",
       "    </tr>\n",
       "    <tr>\n",
       "      <th>2</th>\n",
       "      <td>62</td>\n",
       "    </tr>\n",
       "    <tr>\n",
       "      <th>3</th>\n",
       "      <td>154</td>\n",
       "    </tr>\n",
       "    <tr>\n",
       "      <th>4</th>\n",
       "      <td>171</td>\n",
       "    </tr>\n",
       "  </tbody>\n",
       "</table>\n",
       "</div>"
      ],
      "text/plain": [
       "   Consecutive_Zero_Count\n",
       "0                    4649\n",
       "1                    3458\n",
       "2                      62\n",
       "3                     154\n",
       "4                     171"
      ]
     },
     "execution_count": 6,
     "metadata": {},
     "output_type": "execute_result"
    }
   ],
   "source": [
    "df_zero_streaks.head()  # Show first few streaks"
   ]
  },
  {
   "cell_type": "code",
   "execution_count": 7,
   "id": "f1e14768",
   "metadata": {},
   "outputs": [
    {
     "data": {
      "image/png": "[encoded data removed]",
      "text/plain": [
       "<Figure size 1000x500 with 1 Axes>"
      ]
     },
     "metadata": {},
     "output_type": "display_data"
    },
    {
     "data": {
      "text/html": [
       "<div>\n",
       "<style scoped>\n",
       "    .dataframe tbody tr th:only-of-type {\n",
       "        vertical-align: middle;\n",
       "    }\n",
       "\n",
       "    .dataframe tbody tr th {\n",
       "        vertical-align: top;\n",
       "    }\n",
       "\n",
       "    .dataframe thead th {\n",
       "        text-align: right;\n",
       "    }\n",
       "</style>\n",
       "<table border=\"1\" class=\"dataframe\">\n",
       "  <thead>\n",
       "    <tr style=\"text-align: right;\">\n",
       "      <th></th>\n",
       "      <th>Consecutive_Zero_Count</th>\n",
       "      <th>Frequency</th>\n",
       "    </tr>\n",
       "  </thead>\n",
       "  <tbody>\n",
       "    <tr>\n",
       "      <th>0</th>\n",
       "      <td>2</td>\n",
       "      <td>143</td>\n",
       "    </tr>\n",
       "    <tr>\n",
       "      <th>1</th>\n",
       "      <td>3</td>\n",
       "      <td>74</td>\n",
       "    </tr>\n",
       "    <tr>\n",
       "      <th>2</th>\n",
       "      <td>4</td>\n",
       "      <td>61</td>\n",
       "    </tr>\n",
       "    <tr>\n",
       "      <th>3</th>\n",
       "      <td>7</td>\n",
       "      <td>30</td>\n",
       "    </tr>\n",
       "    <tr>\n",
       "      <th>4</th>\n",
       "      <td>6</td>\n",
       "      <td>29</td>\n",
       "    </tr>\n",
       "    <tr>\n",
       "      <th>...</th>\n",
       "      <td>...</td>\n",
       "      <td>...</td>\n",
       "    </tr>\n",
       "    <tr>\n",
       "      <th>101</th>\n",
       "      <td>93</td>\n",
       "      <td>1</td>\n",
       "    </tr>\n",
       "    <tr>\n",
       "      <th>102</th>\n",
       "      <td>100</td>\n",
       "      <td>1</td>\n",
       "    </tr>\n",
       "    <tr>\n",
       "      <th>103</th>\n",
       "      <td>104</td>\n",
       "      <td>1</td>\n",
       "    </tr>\n",
       "    <tr>\n",
       "      <th>104</th>\n",
       "      <td>109</td>\n",
       "      <td>1</td>\n",
       "    </tr>\n",
       "    <tr>\n",
       "      <th>105</th>\n",
       "      <td>20516</td>\n",
       "      <td>1</td>\n",
       "    </tr>\n",
       "  </tbody>\n",
       "</table>\n",
       "<p>106 rows × 2 columns</p>\n",
       "</div>"
      ],
      "text/plain": [
       "     Consecutive_Zero_Count  Frequency\n",
       "0                         2        143\n",
       "1                         3         74\n",
       "2                         4         61\n",
       "3                         7         30\n",
       "4                         6         29\n",
       "..                      ...        ...\n",
       "101                      93          1\n",
       "102                     100          1\n",
       "103                     104          1\n",
       "104                     109          1\n",
       "105                   20516          1\n",
       "\n",
       "[106 rows x 2 columns]"
      ]
     },
     "execution_count": 7,
     "metadata": {},
     "output_type": "execute_result"
    }
   ],
   "source": [
    "# 2.3 Generate a histogram and tabular report of consecutive zeros\n",
    "# Histogram of consecutive zero streaks\n",
    "plt.figure(figsize=(10, 5))\n",
    "plt.hist(df_zero_streaks['Consecutive_Zero_Count'], bins=20, edgecolor='black')\n",
    "plt.xlabel(\"Length of Consecutive Zeros\")\n",
    "plt.ylabel(\"Frequency\")\n",
    "plt.title(\"Histogram of Consecutive Zero Sequences in raw_MM_Wh\")\n",
    "plt.grid(axis='y', alpha=0.75)\n",
    "plt.show()\n",
    "\n",
    "# Display tabular report\n",
    "df_zero_streaks.value_counts().reset_index().rename(columns={0: 'Frequency'})"
   ]
  },
  {
   "cell_type": "code",
   "execution_count": 8,
   "id": "f5d37d4c",
   "metadata": {},
   "outputs": [
    {
     "data": {
      "image/png": "[encoded data removed]",
      "text/plain": [
       "<Figure size 1200x600 with 1 Axes>"
      ]
     },
     "metadata": {},
     "output_type": "display_data"
    },
    {
     "data": {
      "text/html": [
       "<div>\n",
       "<style scoped>\n",
       "    .dataframe tbody tr th:only-of-type {\n",
       "        vertical-align: middle;\n",
       "    }\n",
       "\n",
       "    .dataframe tbody tr th {\n",
       "        vertical-align: top;\n",
       "    }\n",
       "\n",
       "    .dataframe thead th {\n",
       "        text-align: right;\n",
       "    }\n",
       "</style>\n",
       "<table border=\"1\" class=\"dataframe\">\n",
       "  <thead>\n",
       "    <tr style=\"text-align: right;\">\n",
       "      <th></th>\n",
       "      <th>TimeOfDay</th>\n",
       "      <th>Zero_Count</th>\n",
       "    </tr>\n",
       "  </thead>\n",
       "  <tbody>\n",
       "    <tr>\n",
       "      <th>0</th>\n",
       "      <td>00:00</td>\n",
       "      <td>38</td>\n",
       "    </tr>\n",
       "    <tr>\n",
       "      <th>1</th>\n",
       "      <td>00:15</td>\n",
       "      <td>43</td>\n",
       "    </tr>\n",
       "    <tr>\n",
       "      <th>2</th>\n",
       "      <td>00:30</td>\n",
       "      <td>33</td>\n",
       "    </tr>\n",
       "    <tr>\n",
       "      <th>3</th>\n",
       "      <td>00:45</td>\n",
       "      <td>36</td>\n",
       "    </tr>\n",
       "    <tr>\n",
       "      <th>4</th>\n",
       "      <td>01:00</td>\n",
       "      <td>35</td>\n",
       "    </tr>\n",
       "    <tr>\n",
       "      <th>...</th>\n",
       "      <td>...</td>\n",
       "      <td>...</td>\n",
       "    </tr>\n",
       "    <tr>\n",
       "      <th>91</th>\n",
       "      <td>22:45</td>\n",
       "      <td>41</td>\n",
       "    </tr>\n",
       "    <tr>\n",
       "      <th>92</th>\n",
       "      <td>23:00</td>\n",
       "      <td>38</td>\n",
       "    </tr>\n",
       "    <tr>\n",
       "      <th>93</th>\n",
       "      <td>23:15</td>\n",
       "      <td>34</td>\n",
       "    </tr>\n",
       "    <tr>\n",
       "      <th>94</th>\n",
       "      <td>23:30</td>\n",
       "      <td>37</td>\n",
       "    </tr>\n",
       "    <tr>\n",
       "      <th>95</th>\n",
       "      <td>23:45</td>\n",
       "      <td>39</td>\n",
       "    </tr>\n",
       "  </tbody>\n",
       "</table>\n",
       "<p>96 rows × 2 columns</p>\n",
       "</div>"
      ],
      "text/plain": [
       "   TimeOfDay  Zero_Count\n",
       "0      00:00          38\n",
       "1      00:15          43\n",
       "2      00:30          33\n",
       "3      00:45          36\n",
       "4      01:00          35\n",
       "..       ...         ...\n",
       "91     22:45          41\n",
       "92     23:00          38\n",
       "93     23:15          34\n",
       "94     23:30          37\n",
       "95     23:45          39\n",
       "\n",
       "[96 rows x 2 columns]"
      ]
     },
     "execution_count": 8,
     "metadata": {},
     "output_type": "execute_result"
    }
   ],
   "source": [
    "# 2.4 Analyze the time-of-day clustering of zero observations\n",
    "# Convert timestamp to datetime format (if not already)\n",
    "df_all['dateTimeStmp'] = pd.to_datetime(df_all['dateTimeStmp'])\n",
    "\n",
    "# Extract time of day as hour and minute\n",
    "df_all['TimeOfDay'] = df_all['dateTimeStmp'].dt.strftime('%H:%M')\n",
    "\n",
    "# Filter out zero observations\n",
    "df_zero_time = df_all[df_all['raw_MM_Wh'] == 0]\n",
    "\n",
    "# Count occurrences per 15-minute interval\n",
    "zero_time_counts = df_zero_time['TimeOfDay'].value_counts().sort_index()\n",
    "\n",
    "# Plot histogram\n",
    "plt.figure(figsize=(12, 6))\n",
    "plt.bar(zero_time_counts.index, zero_time_counts.values, width=0.8)\n",
    "plt.xticks(rotation=90)\n",
    "plt.xlabel(\"Time of Day (15-minute intervals)\")\n",
    "plt.ylabel(\"Count of Zero Observations\")\n",
    "plt.title(\"Zero Observations Distribution Across the Day\")\n",
    "plt.show()\n",
    "\n",
    "# Display tabular report\n",
    "zero_time_counts.reset_index().rename(columns={'index': 'TimeOfDay', 'TimeOfDay': 'Zero_Count'})"
   ]
  }
 ],
 "metadata": {
  "kernelspec": {
   "display_name": "Python 3 (ipykernel)",
   "language": "python",
   "name": "python3"
  },
  "language_info": {
   "codemirror_mode": {
    "name": "ipython",
    "version": 3
   },
   "file_extension": ".py",
   "mimetype": "text/x-python",
   "name": "python",
   "nbconvert_exporter": "python",
   "pygments_lexer": "ipython3",
   "version": "3.11.4"
  }
 },
 "nbformat": 4,
 "nbformat_minor": 5
}
