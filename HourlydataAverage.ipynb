{
 "cells": [
  {
   "cell_type": "code",
   "execution_count": 4,
   "metadata": {},
   "outputs": [
    {
     "name": "stdout",
     "output_type": "stream",
     "text": [
      "Hourly aggregation complete. File saved to HOURLY_DATA_Average.csv.\n"
     ]
    }
   ],
   "source": [
    "import pandas as pd\n",
    "\n",
    "file_path = \"/Users/yuanh.er/Desktop/Season4/ITP/backfilled_data_verified.csv\"\n",
    "df = pd.read_csv(file_path)\n",
    "\n",
    "# Step 2: Make sure the date is listed as datetime\n",
    "df['dateTimeStmp'] = pd.to_datetime(df['dateTimeStmp'])\n",
    "\n",
    "# Step 3: Creates a new column representing the time period per hour (minus minutes, seconds)\n",
    "df['hour'] = df['dateTimeStmp'].dt.floor('H')\n",
    "\n",
    "# Step 4: Keep 4 non-zero groups per hour\n",
    "filtered = df.groupby('hour').filter(lambda x: (x['backfilled_MM_Wh'] != 0).sum() == 4)\n",
    "\n",
    "# Step 5: Aggregate and sum by the hour\n",
    "hourly = filtered.groupby('hour')['backfilled_MM_Wh'].sum().reset_index()\n",
    "\n",
    "# Step 6: Rename column, format time and value\n",
    "hourly.rename(columns={'hour': 'dateTimeStmp', 'backfilled_MM_Wh': 'HOURLY_MM_Wh'}, inplace=True)\n",
    "hourly['dateTimeStmp'] = hourly['dateTimeStmp'].dt.strftime('%Y-%m-%d %H:%M:%S')\n",
    "hourly['HOURLY_MM_Wh'] = hourly['HOURLY_MM_Wh'].round(2)\n",
    "hourly['HOURLY_MM_Wh'] = (hourly['HOURLY_MM_Wh'] / 4).round(2)\n",
    "\n",
    "output_path = \"/Users/yuanh.er/Desktop/Season4/ITP/HOURLY_DATA_Average.csv\"\n",
    "hourly.to_csv(output_path, index=False)\n",
    "\n",
    "print(\"Hourly aggregation complete. File saved to HOURLY_DATA_Average.csv.\")\n"
   ]
  }
 ],
 "metadata": {
  "kernelspec": {
   "display_name": "Python 3",
   "language": "python",
   "name": "python3"
  },
  "language_info": {
   "codemirror_mode": {
    "name": "ipython",
    "version": 3
   },
   "file_extension": ".py",
   "mimetype": "text/x-python",
   "name": "python",
   "nbconvert_exporter": "python",
   "pygments_lexer": "ipython3",
   "version": "3.9.6"
  }
 },
 "nbformat": 4,
 "nbformat_minor": 2
}
