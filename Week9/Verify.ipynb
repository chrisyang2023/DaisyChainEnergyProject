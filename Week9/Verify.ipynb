{
 "cells": [
  {
   "cell_type": "code",
   "execution_count": 17,
   "id": "383c664f",
   "metadata": {},
   "outputs": [
    {
     "name": "stdout",
     "output_type": "stream",
     "text": [
      "✅ Step 4 Backfill Legality Check Summary:\n",
      "Total backfilled rows: 543\n",
      "Invalid backfilled rows (have 0 in D-3 ~ D+3): 0\n",
      "Valid backfilled rows: 543\n"
     ]
    }
   ],
   "source": [
    "import pandas as pd\n",
    "\n",
    "# Step 1: Load data\n",
    "df = pd.read_csv('Combined_data_backfilled.csv', parse_dates=['dateTimeStmp'])\n",
    "\n",
    "# Step 2: Define columns to check (D-3 ~ D+3, excluding center)\n",
    "cols_to_check = ['D-3', 'D-2', 'D-1', 'D+1', 'D+2', 'D+3']\n",
    "\n",
    "# Step 3: Identify rows that were backfilled (raw_MM_Wh == 0 and backfilled_MM_Wh ≠ 0)\n",
    "backfilled_rows = df['raw_MM_Wh'] == 0\n",
    "predicted_rows = df['backfilled_MM_Wh'] != 0\n",
    "invalid_mask = backfilled_rows & predicted_rows & (df[cols_to_check] == 0).any(axis=1)\n",
    "\n",
    "# Step 4: Create a new verified column\n",
    "df['verified_backfilled_MM_Wh'] = df['backfilled_MM_Wh']\n",
    "df.loc[invalid_mask, 'verified_backfilled_MM_Wh'] = 0\n",
    "\n",
    "# Step 5: Summary report\n",
    "total_backfilled = (backfilled_rows & predicted_rows).sum()\n",
    "invalid_count = invalid_mask.sum()\n",
    "valid_count = total_backfilled - invalid_count\n",
    "\n",
    "print(\"✅ Step 4 Backfill Legality Check Summary:\")\n",
    "print(f\"Total backfilled rows: {total_backfilled}\")\n",
    "print(f\"Invalid backfilled rows (have 0 in D-3 ~ D+3): {invalid_count}\")\n",
    "print(f\"Valid backfilled rows: {valid_count}\")"
   ]
  },
  {
   "cell_type": "code",
   "execution_count": null,
   "id": "f2fd421f",
   "metadata": {},
   "outputs": [],
   "source": [
    "# Step 6 (optional): Save the verified result\n",
    "df.to_csv('backfilled_data_verified.csv', index=False)\n",
    "print(\"📁 Saved verified backfilled data to 'backfilled_data_verified.csv'\")"
   ]
  }
 ],
 "metadata": {
  "kernelspec": {
   "display_name": "Python 3 (ipykernel)",
   "language": "python",
   "name": "python3"
  },
  "language_info": {
   "codemirror_mode": {
    "name": "ipython",
    "version": 3
   },
   "file_extension": ".py",
   "mimetype": "text/x-python",
   "name": "python",
   "nbconvert_exporter": "python",
   "pygments_lexer": "ipython3",
   "version": "3.11.4"
  }
 },
 "nbformat": 4,
 "nbformat_minor": 5
}
