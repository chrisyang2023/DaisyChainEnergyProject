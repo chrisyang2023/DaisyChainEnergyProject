{
  "nbformat": 4,
  "nbformat_minor": 0,
  "metadata": {
    "colab": {
      "provenance": []
    },
    "kernelspec": {
      "name": "python3",
      "display_name": "Python 3"
    },
    "language_info": {
      "name": "python"
    }
  },
  "cells": [
    {
      "cell_type": "code",
      "execution_count": null,
      "metadata": {
        "colab": {
          "base_uri": "https://localhost:8080/"
        },
        "id": "Hqo6lhEbJJt8",
        "outputId": "af6d1e71-7c3c-48af-f465-618981f64df8"
      },
      "outputs": [
        {
          "output_type": "stream",
          "name": "stdout",
          "text": [
            "Requirement already satisfied: streamlit in /usr/local/lib/python3.11/dist-packages (1.44.1)\n",
            "Requirement already satisfied: pyngrok in /usr/local/lib/python3.11/dist-packages (7.2.3)\n",
            "Requirement already satisfied: altair<6,>=4.0 in /usr/local/lib/python3.11/dist-packages (from streamlit) (5.5.0)\n",
            "Requirement already satisfied: blinker<2,>=1.0.0 in /usr/local/lib/python3.11/dist-packages (from streamlit) (1.9.0)\n",
            "Requirement already satisfied: cachetools<6,>=4.0 in /usr/local/lib/python3.11/dist-packages (from streamlit) (5.5.2)\n",
            "Requirement already satisfied: click<9,>=7.0 in /usr/local/lib/python3.11/dist-packages (from streamlit) (8.1.8)\n",
            "Requirement already satisfied: numpy<3,>=1.23 in /usr/local/lib/python3.11/dist-packages (from streamlit) (2.0.2)\n",
            "Requirement already satisfied: packaging<25,>=20 in /usr/local/lib/python3.11/dist-packages (from streamlit) (24.2)\n",
            "Requirement already satisfied: pandas<3,>=1.4.0 in /usr/local/lib/python3.11/dist-packages (from streamlit) (2.2.2)\n",
            "Requirement already satisfied: pillow<12,>=7.1.0 in /usr/local/lib/python3.11/dist-packages (from streamlit) (11.1.0)\n",
            "Requirement already satisfied: protobuf<6,>=3.20 in /usr/local/lib/python3.11/dist-packages (from streamlit) (5.29.4)\n",
            "Requirement already satisfied: pyarrow>=7.0 in /usr/local/lib/python3.11/dist-packages (from streamlit) (18.1.0)\n",
            "Requirement already satisfied: requests<3,>=2.27 in /usr/local/lib/python3.11/dist-packages (from streamlit) (2.32.3)\n",
            "Requirement already satisfied: tenacity<10,>=8.1.0 in /usr/local/lib/python3.11/dist-packages (from streamlit) (9.1.2)\n",
            "Requirement already satisfied: toml<2,>=0.10.1 in /usr/local/lib/python3.11/dist-packages (from streamlit) (0.10.2)\n",
            "Requirement already satisfied: typing-extensions<5,>=4.4.0 in /usr/local/lib/python3.11/dist-packages (from streamlit) (4.13.1)\n",
            "Requirement already satisfied: watchdog<7,>=2.1.5 in /usr/local/lib/python3.11/dist-packages (from streamlit) (6.0.0)\n",
            "Requirement already satisfied: gitpython!=3.1.19,<4,>=3.0.7 in /usr/local/lib/python3.11/dist-packages (from streamlit) (3.1.44)\n",
            "Requirement already satisfied: pydeck<1,>=0.8.0b4 in /usr/local/lib/python3.11/dist-packages (from streamlit) (0.9.1)\n",
            "Requirement already satisfied: tornado<7,>=6.0.3 in /usr/local/lib/python3.11/dist-packages (from streamlit) (6.4.2)\n",
            "Requirement already satisfied: PyYAML>=5.1 in /usr/local/lib/python3.11/dist-packages (from pyngrok) (6.0.2)\n",
            "Requirement already satisfied: jinja2 in /usr/local/lib/python3.11/dist-packages (from altair<6,>=4.0->streamlit) (3.1.6)\n",
            "Requirement already satisfied: jsonschema>=3.0 in /usr/local/lib/python3.11/dist-packages (from altair<6,>=4.0->streamlit) (4.23.0)\n",
            "Requirement already satisfied: narwhals>=1.14.2 in /usr/local/lib/python3.11/dist-packages (from altair<6,>=4.0->streamlit) (1.33.0)\n",
            "Requirement already satisfied: gitdb<5,>=4.0.1 in /usr/local/lib/python3.11/dist-packages (from gitpython!=3.1.19,<4,>=3.0.7->streamlit) (4.0.12)\n",
            "Requirement already satisfied: python-dateutil>=2.8.2 in /usr/local/lib/python3.11/dist-packages (from pandas<3,>=1.4.0->streamlit) (2.8.2)\n",
            "Requirement already satisfied: pytz>=2020.1 in /usr/local/lib/python3.11/dist-packages (from pandas<3,>=1.4.0->streamlit) (2025.2)\n",
            "Requirement already satisfied: tzdata>=2022.7 in /usr/local/lib/python3.11/dist-packages (from pandas<3,>=1.4.0->streamlit) (2025.2)\n",
            "Requirement already satisfied: charset-normalizer<4,>=2 in /usr/local/lib/python3.11/dist-packages (from requests<3,>=2.27->streamlit) (3.4.1)\n",
            "Requirement already satisfied: idna<4,>=2.5 in /usr/local/lib/python3.11/dist-packages (from requests<3,>=2.27->streamlit) (3.10)\n",
            "Requirement already satisfied: urllib3<3,>=1.21.1 in /usr/local/lib/python3.11/dist-packages (from requests<3,>=2.27->streamlit) (2.3.0)\n",
            "Requirement already satisfied: certifi>=2017.4.17 in /usr/local/lib/python3.11/dist-packages (from requests<3,>=2.27->streamlit) (2025.1.31)\n",
            "Requirement already satisfied: smmap<6,>=3.0.1 in /usr/local/lib/python3.11/dist-packages (from gitdb<5,>=4.0.1->gitpython!=3.1.19,<4,>=3.0.7->streamlit) (5.0.2)\n",
            "Requirement already satisfied: MarkupSafe>=2.0 in /usr/local/lib/python3.11/dist-packages (from jinja2->altair<6,>=4.0->streamlit) (3.0.2)\n",
            "Requirement already satisfied: attrs>=22.2.0 in /usr/local/lib/python3.11/dist-packages (from jsonschema>=3.0->altair<6,>=4.0->streamlit) (25.3.0)\n",
            "Requirement already satisfied: jsonschema-specifications>=2023.03.6 in /usr/local/lib/python3.11/dist-packages (from jsonschema>=3.0->altair<6,>=4.0->streamlit) (2024.10.1)\n",
            "Requirement already satisfied: referencing>=0.28.4 in /usr/local/lib/python3.11/dist-packages (from jsonschema>=3.0->altair<6,>=4.0->streamlit) (0.36.2)\n",
            "Requirement already satisfied: rpds-py>=0.7.1 in /usr/local/lib/python3.11/dist-packages (from jsonschema>=3.0->altair<6,>=4.0->streamlit) (0.24.0)\n",
            "Requirement already satisfied: six>=1.5 in /usr/local/lib/python3.11/dist-packages (from python-dateutil>=2.8.2->pandas<3,>=1.4.0->streamlit) (1.17.0)\n"
          ]
        }
      ],
      "source": [
        "!pip install streamlit pyngrok\n"
      ]
    },
    {
      "cell_type": "code",
      "source": [
        "import pandas as pd\n",
        "\n",
        "# Load and prepare data\n",
        "df = pd.read_csv(\"/content/temp_solar_data.csv\")\n",
        "df['time'] = pd.to_datetime(df['Timestamp'])\n",
        "df = df.drop(columns='Timestamp')\n",
        "\n",
        "\n",
        "df['season'] = df['time'].dt.month % 12 // 3 + 1\n",
        "season_map = {1: 'Winter', 2: 'Spring', 3: 'Summer', 4: 'Fall'}\n",
        "df['season'] = df['season'].map(season_map)\n",
        "\n",
        "df['date'] = df['time'].dt.date\n",
        "df['hour'] = df['time'].dt.hour\n",
        "df['year'] = df['time'].dt.year\n",
        "\n",
        "\n",
        "df.to_csv(\"processed_data.csv\", index=False)\n"
      ],
      "metadata": {
        "id": "19NNse_9NKYe"
      },
      "execution_count": null,
      "outputs": []
    },
    {
      "cell_type": "code",
      "source": [
        "%%writefile app.py\n",
        "import streamlit as st\n",
        "import pandas as pd\n",
        "import plotly.express as px\n",
        "\n",
        "# --- Load and process data ---\n",
        "df = pd.read_csv(\"processed_data.csv\")\n",
        "df['date'] = pd.to_datetime(df['date'])\n",
        "df['time'] = pd.to_datetime(df['time'])\n",
        "df['year'] = df['date'].dt.year\n",
        "df['hour'] = df['time'].dt.hour\n",
        "df['season'] = df['time'].dt.month % 12 // 3 + 1\n",
        "season_map = {1: 'Winter', 2: 'Spring', 3: 'Summer', 4: 'Fall'}\n",
        "df['season'] = df['season'].map(season_map)\n",
        "\n",
        "# --- UI ---\n",
        "st.set_page_config(layout=\"wide\")\n",
        "st.title(\" Solar Radiation &  Temperature Dashboard\")\n",
        "\n",
        "# Sidebar\n",
        "season_choice = st.sidebar.selectbox(\"Select Season\", sorted(df['season'].dropna().unique()))\n",
        "season_df = df[df['season'] == season_choice]\n",
        "available_years = sorted(season_df['year'].unique())\n",
        "selected_year = st.sidebar.selectbox(\"Select Year\", available_years + [\"All Years (Avg)\"])\n",
        "\n",
        "if selected_year != \"All Years (Avg)\":\n",
        "    plot_df = season_df[season_df['year'] == int(selected_year)]\n",
        "    label_note = f\"{season_choice} - {selected_year}\"\n",
        "else:\n",
        "    plot_df = season_df.copy()\n",
        "    label_note = f\"{season_choice} - All Years (Avg)\"\n",
        "\n",
        "st.markdown(f\"##  {label_note}\")\n",
        "\n",
        "# ==========  Static Curve for All Years ==========\n",
        "if selected_year == \"All Years (Avg)\":\n",
        "    st.markdown(\"###  Smoothed Average Profiles (All Years)\")\n",
        "\n",
        "    avg_df = plot_df.groupby(['date', 'hour'])[['Temperature', 'GHI', 'DHI', 'DNI']].mean().reset_index()\n",
        "    avg_hourly = avg_df.groupby('hour')[['Temperature', 'GHI', 'DHI', 'DNI']].mean().rolling(3, center=True).mean().reset_index()\n",
        "\n",
        "    col1, col2 = st.columns(2)\n",
        "\n",
        "    with col1:\n",
        "        st.subheader(\" Avg Solar Radiation\")\n",
        "        fig_solar_avg = px.line(\n",
        "            avg_hourly, x=\"hour\", y=[\"GHI\", \"DHI\", \"DNI\"],\n",
        "            labels={\"value\": \"Avg Radiation (W/m²)\", \"hour\": \"Hour\"},\n",
        "            title=\"Smoothed Solar Radiation (Hourly)\"\n",
        "        )\n",
        "        st.plotly_chart(fig_solar_avg, use_container_width=True)\n",
        "\n",
        "    with col2:\n",
        "        st.subheader(\" Avg Temperature\")\n",
        "        fig_temp_avg = px.line(\n",
        "            avg_hourly, x=\"hour\", y=\"Temperature\",\n",
        "            labels={\"Temperature\": \"°C\", \"hour\": \"Hour\"},\n",
        "            title=\"Smoothed Temperature (Hourly)\"\n",
        "        )\n",
        "        st.plotly_chart(fig_temp_avg, use_container_width=True)\n",
        "\n",
        "# ==========  Animated View for Specific Years ==========\n",
        "else:\n",
        "    st.markdown(\"###  Daily Animation of Solar & Temperature Profiles\")\n",
        "\n",
        "    animation_df = plot_df.copy()\n",
        "    animation_df['date_str'] = animation_df['date'].astype(str)\n",
        "\n",
        "    col1, col2 = st.columns(2)\n",
        "\n",
        "    with col1:\n",
        "        st.subheader(\" Solar Radiation\")\n",
        "        fig_rad = px.line(\n",
        "            animation_df,\n",
        "            x=\"hour\",\n",
        "            y=[\"GHI\", \"DHI\", \"DNI\"],\n",
        "            animation_frame=\"date_str\",\n",
        "            range_y=[0, animation_df[[\"GHI\", \"DHI\", \"DNI\"]].max().max() * 1.1],\n",
        "            labels={\"value\": \"Radiation (W/m²)\", \"hour\": \"Hour of Day\"},\n",
        "            title=\"Radiation Profiles (Animated by Day)\"\n",
        "        )\n",
        "        st.plotly_chart(fig_rad, use_container_width=True)\n",
        "\n",
        "    with col2:\n",
        "        st.subheader(\" Temperature\")\n",
        "        fig_temp = px.line(\n",
        "            animation_df,\n",
        "            x=\"hour\",\n",
        "            y=\"Temperature\",\n",
        "            animation_frame=\"date_str\",\n",
        "            range_y=[animation_df[\"Temperature\"].min() - 2, animation_df[\"Temperature\"].max() + 2],\n",
        "            labels={\"Temperature\": \"°C\", \"hour\": \"Hour of Day\"},\n",
        "            title=\"Temperature Profile (Animated by Day)\"\n",
        "        )\n",
        "        st.plotly_chart(fig_temp, use_container_width=True)\n",
        "\n",
        "# ==========  KPI Tabs (for all views) ==========\n",
        "with st.expander(\" View Summary KPIs and Analysis\"):\n",
        "    tab1, tab2 = st.tabs([\" Averages & Heatmap\", \" Significant Days\"])\n",
        "\n",
        "    with tab1:\n",
        "        st.subheader(\" Avg Hourly Solar Radiation\")\n",
        "        avg_hourly = plot_df.groupby(\"hour\")[[\"Temperature\", \"GHI\", \"DHI\", \"DNI\"]].mean().reset_index()\n",
        "        fig_rad_avg = px.line(\n",
        "            avg_hourly,\n",
        "            x=\"hour\",\n",
        "            y=[\"GHI\", \"DHI\", \"DNI\"],\n",
        "            title=f\"Solar Radiation - Hourly Averages ({label_note})\",\n",
        "            labels={\"value\": \"Avg Radiation (W/m²)\", \"hour\": \"Hour of Day\"}\n",
        "        )\n",
        "        st.plotly_chart(fig_rad_avg, use_container_width=True)\n",
        "\n",
        "        st.subheader(\" Avg Hourly Temperature\")\n",
        "        fig_temp_avg = px.line(\n",
        "            avg_hourly,\n",
        "            x=\"hour\",\n",
        "            y=\"Temperature\",\n",
        "            title=f\"Temperature - Hourly Average ({label_note})\",\n",
        "            labels={\"Temperature\": \"°C\", \"hour\": \"Hour of Day\"}\n",
        "        )\n",
        "        st.plotly_chart(fig_temp_avg, use_container_width=True)\n",
        "\n",
        "        st.subheader(\" GHI Heatmap by Hour & Date\")\n",
        "        heat_df = plot_df.groupby(['date', 'hour'])['GHI'].mean().reset_index()\n",
        "        heat_pivot = heat_df.pivot(index='date', columns='hour', values='GHI').fillna(0)\n",
        "        fig_heat = px.imshow(\n",
        "            heat_pivot,\n",
        "            labels=dict(x=\"Hour\", y=\"Date\", color=\"GHI\"),\n",
        "            aspect=\"auto\",\n",
        "            title=f\"Heatmap - GHI Intensity by Hour & Date ({selected_year})\"\n",
        "        )\n",
        "        st.plotly_chart(fig_heat, use_container_width=True)\n",
        "\n",
        "    with tab2:\n",
        "        st.subheader(\"Significant Days Summary\")\n",
        "        daily_stats = plot_df.groupby('date').agg({\n",
        "            'GHI': ['mean', 'std'],\n",
        "            'Temperature': ['min', 'max']\n",
        "        }).reset_index()\n",
        "        daily_stats.columns = ['date', 'ghi_mean', 'ghi_std', 'temp_min', 'temp_max']\n",
        "        daily_stats['temp_range'] = daily_stats['temp_max'] - daily_stats['temp_min']\n",
        "\n",
        "        st.markdown(\"#### Peak Solar Radiation Days\")\n",
        "        st.dataframe(daily_stats.nlargest(3, 'ghi_mean')[['date', 'ghi_mean']])\n",
        "\n",
        "        st.markdown(\"#### Low Solar Radiation Days\")\n",
        "        st.dataframe(daily_stats.nsmallest(3, 'ghi_mean')[['date', 'ghi_mean']])\n",
        "\n",
        "        st.markdown(\"#### High Temperature Swings\")\n",
        "        st.dataframe(daily_stats.nlargest(3, 'temp_range')[['date', 'temp_range']])\n",
        "\n",
        "        st.markdown(\"#### High Solar Variability\")\n",
        "        st.dataframe(daily_stats.nlargest(3, 'ghi_std')[['date', 'ghi_std']])\n"
      ],
      "metadata": {
        "colab": {
          "base_uri": "https://localhost:8080/"
        },
        "id": "CKDsopfaNQfx",
        "outputId": "5354e27e-b28a-46b3-8c10-7bc6a59898e2"
      },
      "execution_count": null,
      "outputs": [
        {
          "output_type": "stream",
          "name": "stdout",
          "text": [
            "Overwriting app.py\n"
          ]
        }
      ]
    },
    {
      "cell_type": "code",
      "source": [
        "!ngrok config add-authtoken 2vPbi8ZSfsUB0ITjrnHASQlUHtE_2nVgMVJ29Ea5nM9erq2X9"
      ],
      "metadata": {
        "colab": {
          "base_uri": "https://localhost:8080/"
        },
        "id": "gF146wJuNQ4G",
        "outputId": "f263d413-5cdf-4d5d-afbc-599adb487caa"
      },
      "execution_count": null,
      "outputs": [
        {
          "output_type": "stream",
          "name": "stdout",
          "text": [
            "Authtoken saved to configuration file: /root/.config/ngrok/ngrok.yml\n"
          ]
        }
      ]
    },
    {
      "cell_type": "code",
      "source": [
        "import os\n",
        "import time\n",
        "from pyngrok import ngrok\n",
        "\n",
        "# Kill existing streamlit if running\n",
        "os.system(\"pkill streamlit\")\n",
        "\n",
        "# Start the streamlit app\n",
        "os.system(\"streamlit run app.py &\")\n",
        "time.sleep(10)\n",
        "\n",
        "# Create public tunnel\n",
        "public_url = ngrok.connect(8501)\n",
        "print(\"Your Streamlit app is live at:\", public_url)\n"
      ],
      "metadata": {
        "colab": {
          "base_uri": "https://localhost:8080/"
        },
        "id": "MZIwGdWYOAnB",
        "outputId": "b912eb87-9e44-4e75-df11-57c9e9a5de74"
      },
      "execution_count": null,
      "outputs": [
        {
          "output_type": "stream",
          "name": "stdout",
          "text": [
            "Your Streamlit app is live at: NgrokTunnel: \"https://b5f5-34-169-8-9.ngrok-free.app\" -> \"http://localhost:8501\"\n"
          ]
        }
      ]
    }
  ]
}
